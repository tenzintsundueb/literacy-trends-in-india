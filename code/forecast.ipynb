{
 "cells": [
  {
   "cell_type": "markdown",
   "id": "e75d3908-6bad-4d87-875d-31138457dbe0",
   "metadata": {},
   "source": [
    "# FORECASTE"
   ]
  },
  {
   "cell_type": "code",
   "execution_count": 1,
   "id": "644cda71-8549-4d96-a55c-001b0064ecaf",
   "metadata": {},
   "outputs": [],
   "source": [
    "import pandas as pd\n",
    "import numpy as np\n",
    "import matplotlib.pyplot as plt\n",
    "from matplotlib.colors import to_hex\n",
    "from statsmodels.graphics.tsaplots import plot_acf, plot_pacf\n",
    "from statsmodels.stats.diagnostic import acorr_ljungbox\n",
    "from statsmodels.tsa.arima.model import ARIMA\n",
    "import seaborn as sns\n",
    "\n",
    "from sklearn.metrics import mean_absolute_error, mean_squared_error\n",
    "\n",
    "sns.set(style=\"whitegrid\")\n",
    "plt.rcParams[\"figure.figsize\"] = (12, 7)"
   ]
  },
  {
   "attachments": {},
   "cell_type": "markdown",
   "id": "cbc12cbd-4567-4f52-984f-3eaa138ec572",
   "metadata": {},
   "source": [
    "## ARIMA Model\n",
    "Step 1: Data Preparation & Stationarity Check<br>Step 2: Model Identification & Parameter Estimation<br>Step 3: Diagnostic Checking<br>Step 4: Forecasting & Accuracy Evaluation\r\n",
    "ror terms\r\n"
   ]
  },
  {
   "cell_type": "markdown",
   "id": "5ceda87a-9974-40c4-8a20-196614e33b23",
   "metadata": {},
   "source": [
    "<img src=\"../img/residual_spark.png\"/>"
   ]
  },
  {
   "cell_type": "markdown",
   "id": "84caa4f6-7c1f-403c-9b46-7c918606f534",
   "metadata": {},
   "source": [
    "### Residual Analysis of Literacy Rate of India (1901 - 2011).\n",
    "Residual spikes at certain points imply that the model may produce less reliable forecasts during similar anomalous periods in the future.<br>Perform a Chow Test or similar analysis to detect structural breaks in the time series. If breaks exist, consider splitting the data into pre- and post-break periods and model each segment separately."
   ]
  },
  {
   "cell_type": "markdown",
   "id": "9cdb718a-ccef-4f5f-873a-0af64d17b623",
   "metadata": {},
   "source": [
    "## <br><br>Breaking the Series and Focusing on Post-Independence"
   ]
  },
  {
   "cell_type": "code",
   "execution_count": 2,
   "id": "d1893398-7947-43dd-8334-6fe296d1c80d",
   "metadata": {},
   "outputs": [
    {
     "data": {
      "text/html": [
       "<div>\n",
       "<style scoped>\n",
       "    .dataframe tbody tr th:only-of-type {\n",
       "        vertical-align: middle;\n",
       "    }\n",
       "\n",
       "    .dataframe tbody tr th {\n",
       "        vertical-align: top;\n",
       "    }\n",
       "\n",
       "    .dataframe thead th {\n",
       "        text-align: right;\n",
       "    }\n",
       "</style>\n",
       "<table border=\"1\" class=\"dataframe\">\n",
       "  <thead>\n",
       "    <tr style=\"text-align: right;\">\n",
       "      <th></th>\n",
       "      <th>year</th>\n",
       "      <th>persons</th>\n",
       "    </tr>\n",
       "  </thead>\n",
       "  <tbody>\n",
       "    <tr>\n",
       "      <th>0</th>\n",
       "      <td>1951</td>\n",
       "      <td>18.33</td>\n",
       "    </tr>\n",
       "    <tr>\n",
       "      <th>1</th>\n",
       "      <td>1961</td>\n",
       "      <td>28.30</td>\n",
       "    </tr>\n",
       "    <tr>\n",
       "      <th>2</th>\n",
       "      <td>1971</td>\n",
       "      <td>34.45</td>\n",
       "    </tr>\n",
       "    <tr>\n",
       "      <th>3</th>\n",
       "      <td>1981</td>\n",
       "      <td>43.57</td>\n",
       "    </tr>\n",
       "    <tr>\n",
       "      <th>4</th>\n",
       "      <td>1991</td>\n",
       "      <td>52.21</td>\n",
       "    </tr>\n",
       "    <tr>\n",
       "      <th>5</th>\n",
       "      <td>2001</td>\n",
       "      <td>64.83</td>\n",
       "    </tr>\n",
       "    <tr>\n",
       "      <th>6</th>\n",
       "      <td>2011</td>\n",
       "      <td>74.04</td>\n",
       "    </tr>\n",
       "  </tbody>\n",
       "</table>\n",
       "</div>"
      ],
      "text/plain": [
       "   year  persons\n",
       "0  1951    18.33\n",
       "1  1961    28.30\n",
       "2  1971    34.45\n",
       "3  1981    43.57\n",
       "4  1991    52.21\n",
       "5  2001    64.83\n",
       "6  2011    74.04"
      ]
     },
     "metadata": {},
     "output_type": "display_data"
    }
   ],
   "source": [
    "df = pd.read_csv('../dataset/literacy.csv')\n",
    "post_independence_data = df[df['year'] >= 1947][['year', 'persons']]\n",
    "post_independence_data.reset_index(drop=True, inplace=True)\n",
    "display(post_independence_data)"
   ]
  },
  {
   "cell_type": "markdown",
   "id": "2d0e2f30-f361-43e5-a008-62239719eb9b",
   "metadata": {},
   "source": [
    "### Adding 5 year interval and Interpolation"
   ]
  },
  {
   "cell_type": "code",
   "execution_count": 3,
   "id": "a596fde0-3a41-465d-9685-da1ea698fce6",
   "metadata": {},
   "outputs": [
    {
     "name": "stdout",
     "output_type": "stream",
     "text": [
      "    year  persons\n",
      "0   1951   18.330\n",
      "1   1956   23.315\n",
      "2   1961   28.300\n",
      "3   1966   31.375\n",
      "4   1971   34.450\n",
      "5   1976   39.010\n",
      "6   1981   43.570\n",
      "7   1986   47.890\n",
      "8   1991   52.210\n",
      "9   1996   58.520\n",
      "10  2001   64.830\n",
      "11  2006   69.435\n",
      "12  2011   74.040\n",
      "13  2016   76.000\n",
      "14  2021   78.600\n"
     ]
    }
   ],
   "source": [
    "# Create a new range of years with 5-year gaps\n",
    "min_year = post_independence_data['year'].min()\n",
    "max_year = post_independence_data['year'].max()\n",
    "new_years = list(range(min_year, max_year + 1, 5))\n",
    "\n",
    "# Reindex the dataframe to include the new years\n",
    "post_independence_data_reindexed = post_independence_data.set_index('year')\n",
    "post_independence_data_reindexed = post_independence_data_reindexed.reindex(new_years)\n",
    "\n",
    "# Interpolate the missing values\n",
    "post_independence_data_reindexed['persons'] = post_independence_data_reindexed['persons'].interpolate(method='linear')\n",
    "\n",
    "# Add additional rows manually\n",
    "additional_rows = pd.DataFrame({'year': [2016, 2021], 'persons': [76, 78.6]})\n",
    "post_independence_data_reindexed = pd.concat([post_independence_data_reindexed.reset_index(), additional_rows]).sort_values(by='year')\n",
    "\n",
    "# Reset the index to make 'year' a column again\n",
    "post_independence_data_reindexed.reset_index(drop=True, inplace=True)\n",
    "\n",
    "# Display the new DataFrame\n",
    "print(post_independence_data_reindexed)"
   ]
  },
  {
   "cell_type": "markdown",
   "id": "6f59a71c-2207-4c9d-b993-09c0c7e76e3c",
   "metadata": {},
   "source": [
    "### Adding 2.5 year interval and Interpolation"
   ]
  },
  {
   "cell_type": "code",
   "execution_count": 4,
   "id": "fe50ac3d-2f36-4c5f-8a00-e9bd79b3101c",
   "metadata": {},
   "outputs": [
    {
     "name": "stdout",
     "output_type": "stream",
     "text": [
      "      year  persons\n",
      "0   1951.0  18.3300\n",
      "1   1953.5  20.8225\n",
      "2   1956.0  23.3150\n",
      "3   1958.5  25.8075\n",
      "4   1961.0  28.3000\n",
      "5   1963.5  29.8375\n",
      "6   1966.0  31.3750\n",
      "7   1968.5  32.9125\n",
      "8   1971.0  34.4500\n",
      "9   1973.5  36.7300\n",
      "10  1976.0  39.0100\n",
      "11  1978.5  41.2900\n",
      "12  1981.0  43.5700\n",
      "13  1983.5  45.7300\n",
      "14  1986.0  47.8900\n",
      "15  1988.5  50.0500\n",
      "16  1991.0  52.2100\n",
      "17  1993.5  55.3650\n",
      "18  1996.0  58.5200\n",
      "19  1998.5  61.6750\n",
      "20  2001.0  64.8300\n",
      "21  2003.5  67.1325\n",
      "22  2006.0  69.4350\n",
      "23  2008.5  71.7375\n",
      "24  2011.0  74.0400\n",
      "25  2013.5  75.0200\n",
      "26  2016.0  76.0000\n",
      "27  2018.5  77.3000\n",
      "28  2021.0  78.6000\n"
     ]
    }
   ],
   "source": [
    "min_year = post_independence_data_reindexed['year'].min()\n",
    "max_year = post_independence_data_reindexed['year'].max()\n",
    "new_years = np.arange(min_year, max_year + 1, 2.5)\n",
    "\n",
    "# Reindex the dataframe to include the new years\n",
    "final_post_independence_data = post_independence_data_reindexed.set_index('year')\n",
    "final_post_independence_data = final_post_independence_data.reindex(new_years)\n",
    "\n",
    "# Interpolate the missing values\n",
    "final_post_independence_data['persons'] = final_post_independence_data['persons'].interpolate(method='linear')\n",
    "\n",
    "# Reset the index to make 'year' a column again\n",
    "final_post_independence_data.reset_index(inplace=True)\n",
    "final_post_independence_data.rename(columns={'index': 'year'}, inplace=True)\n",
    "\n",
    "# Display the new DataFrame\n",
    "print(final_post_independence_data)"
   ]
  },
  {
   "cell_type": "markdown",
   "id": "0e67acc2-c105-47bd-8fb5-57255e24a8cd",
   "metadata": {},
   "source": [
    "## <br>Autocorrelation Function and Partial Autocorrelation Function\n",
    "Autocorrelation measures the linear relationship between a time series and its lagged values.<br>Partial autocorrelation removes the influence of intermediate lags, providing a clearer picture of the direct relationship between a variable and its past values. Unlike autocorrelation, partial autocorrelation focuses on the direct correlation at each lag."
   ]
  },
  {
   "cell_type": "markdown",
   "id": "da874ac6-3dd5-4a07-bf47-25632171d481",
   "metadata": {},
   "source": [
    "<img src=\"../img/acf_formula.png\" style=\"width:600px; height:250px\" /><br>"
   ]
  },
  {
   "cell_type": "code",
   "execution_count": 5,
   "id": "83a26fa6-a330-4d81-9bda-60e91c6fa382",
   "metadata": {},
   "outputs": [
    {
     "data": {
      "image/png": "[encoded data removed]",
      "text/plain": [
       "<Figure size 1200x600 with 2 Axes>"
      ]
     },
     "metadata": {},
     "output_type": "display_data"
    }
   ],
   "source": [
    "plt.figure(figsize=(12, 6))\n",
    "\n",
    "# Plot ACF\n",
    "plt.subplot(1, 2, 1)\n",
    "plot_acf(final_post_independence_data['persons'], lags=13, ax=plt.gca())\n",
    "plt.title('ACF of Literacy Rate in India')\n",
    "\n",
    "# Plot PACF\n",
    "plt.subplot(1, 2, 2)\n",
    "plot_pacf(final_post_independence_data['persons'], lags=12, ax=plt.gca())\n",
    "plt.title('PACF of Literacy Rate in India')\n",
    "\n",
    "plt.tight_layout()\n",
    "plt.show()"
   ]
  },
  {
   "cell_type": "markdown",
   "id": "07a33b92-1588-4c32-9c64-91ab88760b7c",
   "metadata": {},
   "source": [
    "##### The Autocorrelation Function (ACF) displayed a slow decay, indicating strong correlations across lags—a typical sign of non-stationarity in the dataset.\u000b"
   ]
  },
  {
   "attachments": {},
   "cell_type": "markdown",
   "id": "ecbf223c-eca6-4f71-9ead-704e3ba86f7d",
   "metadata": {},
   "source": [
    "### <br>Step1: Stationary Check using ADF(Augmented Dickey–Fuller test)\n",
    "The Augmented Dickey-Fuller (ADF) test was used to statistically verify stationarity.<br>It assume time series as AR(1), which is function of lag(t1). <br>Null Hypothesis: coefficient of lag(t1) is 1(which means unit root is present) <br>Alternate Hypothesis: coefficient of lag(t1) is < 1(No unit root)"
   ]
  },
  {
   "cell_type": "code",
   "execution_count": 6,
   "id": "37a64fb5-823e-49b0-b7da-3e8da48cb315",
   "metadata": {},
   "outputs": [
    {
     "name": "stdout",
     "output_type": "stream",
     "text": [
      "p-value : 0.8271428855073695\n",
      "Series is not stationary\n"
     ]
    }
   ],
   "source": [
    "from statsmodels.tsa.stattools import adfuller\n",
    "# Perform the ADF test\n",
    "def perform_df_test(series):\n",
    "    result = adfuller(series)\n",
    "\n",
    "    print('p-value :', result[1])\n",
    "\n",
    "    # Check stationarity based on the p-value\n",
    "    if result[1] > 0.05:  # Note: Use result[1] to check the p-value, not result[0]\n",
    "        print('Series is not stationary')\n",
    "    else:\n",
    "        print('Series is stationary')\n",
    "        \n",
    "perform_df_test(final_post_independence_data['persons'])"
   ]
  },
  {
   "cell_type": "code",
   "execution_count": 7,
   "id": "2e372600-6da5-4246-b871-8efb64c79cfc",
   "metadata": {},
   "outputs": [
    {
     "name": "stdout",
     "output_type": "stream",
     "text": [
      "p-value : 0.4526161248365417\n",
      "Series is not stationary\n"
     ]
    }
   ],
   "source": [
    "# First differencing\n",
    "df_diff = final_post_independence_data\n",
    "df_diff['persons_diff1'] = df_diff['persons'].diff()\n",
    "\n",
    "# Dropping the NaN value from the first difference\n",
    "df_diff = df_diff.dropna()\n",
    "\n",
    "#Perform the ADF test on the differenced series\n",
    "perform_df_test(df_diff['persons_diff1'])"
   ]
  },
  {
   "cell_type": "code",
   "execution_count": 8,
   "id": "61c3be2d-ffd6-4e27-aa69-cbc90d06a9d8",
   "metadata": {},
   "outputs": [
    {
     "name": "stdout",
     "output_type": "stream",
     "text": [
      "p-value : 2.7476259532389072e-05\n",
      "Series is stationary\n"
     ]
    },
    {
     "name": "stderr",
     "output_type": "stream",
     "text": [
      "/var/folders/jw/ztdbrr2d43l_dj3d3hkmjkx80000gn/T/ipykernel_24841/3702893228.py:2: SettingWithCopyWarning: \n",
      "A value is trying to be set on a copy of a slice from a DataFrame.\n",
      "Try using .loc[row_indexer,col_indexer] = value instead\n",
      "\n",
      "See the caveats in the documentation: https://pandas.pydata.org/pandas-docs/stable/user_guide/indexing.html#returning-a-view-versus-a-copy\n",
      "  df_diff['persons_diff2'] = df_diff['persons_diff1'].diff()\n"
     ]
    }
   ],
   "source": [
    "# Second differencing\n",
    "df_diff['persons_diff2'] = df_diff['persons_diff1'].diff()\n",
    "\n",
    "# Dropping the NaN value from the first difference\n",
    "df_diff = df_diff.dropna()\n",
    "\n",
    "# Perform the ADF test on the differenced series\n",
    "perform_df_test(df_diff['persons_diff2'])"
   ]
  },
  {
   "cell_type": "markdown",
   "id": "df50c9bf-fd6a-4dca-ab59-ce8b64931419",
   "metadata": {},
   "source": [
    "### <br>Step 2: Model Identification & Parameter Estimation"
   ]
  },
  {
   "cell_type": "code",
   "execution_count": 9,
   "id": "5f5681e0-ed2e-4382-8d6f-4b11591be972",
   "metadata": {},
   "outputs": [
    {
     "name": "stdout",
     "output_type": "stream",
     "text": [
      "                               SARIMAX Results                                \n",
      "==============================================================================\n",
      "Dep. Variable:          persons_diff2   No. Observations:                   27\n",
      "Model:                 ARIMA(1, 2, 2)   Log Likelihood                 -20.566\n",
      "Date:                Tue, 03 Jun 2025   AIC                             49.132\n",
      "Time:                        18:34:50   BIC                             54.007\n",
      "Sample:                             0   HQIC                            50.484\n",
      "                                 - 27                                         \n",
      "Covariance Type:                  opg                                         \n",
      "==============================================================================\n",
      "                 coef    std err          z      P>|z|      [0.025      0.975]\n",
      "------------------------------------------------------------------------------\n",
      "ar.L1          0.0664      0.584      0.114      0.910      -1.078       1.211\n",
      "ma.L1         -1.9887    172.630     -0.012      0.991    -340.338     336.360\n",
      "ma.L2          0.9908    170.973      0.006      0.995    -334.109     336.091\n",
      "sigma2         0.2033     35.236      0.006      0.995     -68.858      69.265\n",
      "===================================================================================\n",
      "Ljung-Box (L1) (Q):                   0.10   Jarque-Bera (JB):                 1.90\n",
      "Prob(Q):                              0.76   Prob(JB):                         0.39\n",
      "Heteroskedasticity (H):               2.00   Skew:                            -0.49\n",
      "Prob(H) (two-sided):                  0.35   Kurtosis:                         3.93\n",
      "===================================================================================\n",
      "\n",
      "Warnings:\n",
      "[1] Covariance matrix calculated using the outer product of gradients (complex-step).\n"
     ]
    },
    {
     "name": "stderr",
     "output_type": "stream",
     "text": [
      "/opt/anaconda3/lib/python3.11/site-packages/statsmodels/tsa/base/tsa_model.py:473: ValueWarning: An unsupported index was provided and will be ignored when e.g. forecasting.\n",
      "  self._init_dates(dates, freq)\n",
      "/opt/anaconda3/lib/python3.11/site-packages/statsmodels/tsa/base/tsa_model.py:473: ValueWarning: An unsupported index was provided and will be ignored when e.g. forecasting.\n",
      "  self._init_dates(dates, freq)\n",
      "/opt/anaconda3/lib/python3.11/site-packages/statsmodels/tsa/base/tsa_model.py:473: ValueWarning: An unsupported index was provided and will be ignored when e.g. forecasting.\n",
      "  self._init_dates(dates, freq)\n",
      "/opt/anaconda3/lib/python3.11/site-packages/statsmodels/tsa/statespace/sarimax.py:978: UserWarning: Non-invertible starting MA parameters found. Using zeros as starting parameters.\n",
      "  warn('Non-invertible starting MA parameters found.'\n"
     ]
    }
   ],
   "source": [
    "model_A1=ARIMA(df_diff['persons_diff2'],order=(1,2,2))\n",
    "model_fit_A1=model_A1.fit()\n",
    "print(model_fit_A1.summary())"
   ]
  },
  {
   "cell_type": "code",
   "execution_count": 10,
   "id": "bfdcf1b4-f399-4001-95d2-772ca200bbd5",
   "metadata": {},
   "outputs": [
    {
     "name": "stdout",
     "output_type": "stream",
     "text": [
      "                               SARIMAX Results                                \n",
      "==============================================================================\n",
      "Dep. Variable:          persons_diff2   No. Observations:                   27\n",
      "Model:                 ARIMA(1, 2, 1)   Log Likelihood                 -23.249\n",
      "Date:                Tue, 03 Jun 2025   AIC                             52.498\n",
      "Time:                        18:34:50   BIC                             56.154\n",
      "Sample:                             0   HQIC                            53.512\n",
      "                                 - 27                                         \n",
      "Covariance Type:                  opg                                         \n",
      "==============================================================================\n",
      "                 coef    std err          z      P>|z|      [0.025      0.975]\n",
      "------------------------------------------------------------------------------\n",
      "ar.L1         -0.4246      0.177     -2.395      0.017      -0.772      -0.077\n",
      "ma.L1         -0.9985     13.775     -0.072      0.942     -27.998      26.001\n",
      "sigma2         0.3191      4.341      0.074      0.941      -8.188       8.827\n",
      "===================================================================================\n",
      "Ljung-Box (L1) (Q):                   0.96   Jarque-Bera (JB):                 0.37\n",
      "Prob(Q):                              0.33   Prob(JB):                         0.83\n",
      "Heteroskedasticity (H):               1.92   Skew:                            -0.21\n",
      "Prob(H) (two-sided):                  0.38   Kurtosis:                         2.57\n",
      "===================================================================================\n",
      "\n",
      "Warnings:\n",
      "[1] Covariance matrix calculated using the outer product of gradients (complex-step).\n"
     ]
    },
    {
     "name": "stderr",
     "output_type": "stream",
     "text": [
      "/opt/anaconda3/lib/python3.11/site-packages/statsmodels/tsa/base/tsa_model.py:473: ValueWarning: An unsupported index was provided and will be ignored when e.g. forecasting.\n",
      "  self._init_dates(dates, freq)\n",
      "/opt/anaconda3/lib/python3.11/site-packages/statsmodels/tsa/base/tsa_model.py:473: ValueWarning: An unsupported index was provided and will be ignored when e.g. forecasting.\n",
      "  self._init_dates(dates, freq)\n",
      "/opt/anaconda3/lib/python3.11/site-packages/statsmodels/tsa/base/tsa_model.py:473: ValueWarning: An unsupported index was provided and will be ignored when e.g. forecasting.\n",
      "  self._init_dates(dates, freq)\n"
     ]
    }
   ],
   "source": [
    "model_A1=ARIMA(df_diff['persons_diff2'],order=(1,2,1))\n",
    "model_fit_A1=model_A1.fit()\n",
    "print(model_fit_A1.summary())"
   ]
  },
  {
   "cell_type": "code",
   "execution_count": 11,
   "id": "f596822b-0d48-4b97-ab11-190774049614",
   "metadata": {},
   "outputs": [
    {
     "name": "stdout",
     "output_type": "stream",
     "text": [
      "                               SARIMAX Results                                \n",
      "==============================================================================\n",
      "Dep. Variable:          persons_diff2   No. Observations:                   27\n",
      "Model:                 ARIMA(1, 2, 3)   Log Likelihood                 -19.942\n",
      "Date:                Tue, 03 Jun 2025   AIC                             49.885\n",
      "Time:                        18:34:50   BIC                             55.979\n",
      "Sample:                             0   HQIC                            51.575\n",
      "                                 - 27                                         \n",
      "Covariance Type:                  opg                                         \n",
      "==============================================================================\n",
      "                 coef    std err          z      P>|z|      [0.025      0.975]\n",
      "------------------------------------------------------------------------------\n",
      "ar.L1         -0.8032      0.977     -0.822      0.411      -2.718       1.112\n",
      "ma.L1         -0.9888     89.109     -0.011      0.991    -175.640     173.662\n",
      "ma.L2         -0.9954    122.278     -0.008      0.994    -240.655     238.664\n",
      "ma.L3          0.9903    130.262      0.008      0.994    -254.319     256.299\n",
      "sigma2         0.1849     24.326      0.008      0.994     -47.494      47.864\n",
      "===================================================================================\n",
      "Ljung-Box (L1) (Q):                   0.18   Jarque-Bera (JB):                 2.35\n",
      "Prob(Q):                              0.67   Prob(JB):                         0.31\n",
      "Heteroskedasticity (H):               2.05   Skew:                            -0.53\n",
      "Prob(H) (two-sided):                  0.33   Kurtosis:                         4.06\n",
      "===================================================================================\n",
      "\n",
      "Warnings:\n",
      "[1] Covariance matrix calculated using the outer product of gradients (complex-step).\n"
     ]
    },
    {
     "name": "stderr",
     "output_type": "stream",
     "text": [
      "/opt/anaconda3/lib/python3.11/site-packages/statsmodels/tsa/base/tsa_model.py:473: ValueWarning: An unsupported index was provided and will be ignored when e.g. forecasting.\n",
      "  self._init_dates(dates, freq)\n",
      "/opt/anaconda3/lib/python3.11/site-packages/statsmodels/tsa/base/tsa_model.py:473: ValueWarning: An unsupported index was provided and will be ignored when e.g. forecasting.\n",
      "  self._init_dates(dates, freq)\n",
      "/opt/anaconda3/lib/python3.11/site-packages/statsmodels/tsa/base/tsa_model.py:473: ValueWarning: An unsupported index was provided and will be ignored when e.g. forecasting.\n",
      "  self._init_dates(dates, freq)\n"
     ]
    }
   ],
   "source": [
    "model_A1=ARIMA(df_diff['persons_diff2'],order=(1,2,3))\n",
    "model_fit_A1=model_A1.fit()\n",
    "print(model_fit_A1.summary())"
   ]
  },
  {
   "cell_type": "markdown",
   "id": "9fc93058-1950-47e4-bd38-2e00b3a2a2c4",
   "metadata": {},
   "source": [
    "#### <br>Based on the AIC comparison, the ARIMA(1, 2, 2) model emerged as the optimal choice."
   ]
  },
  {
   "cell_type": "code",
   "execution_count": 12,
   "id": "99788ea9-fb02-42f3-9f6d-5bc5f8c57abf",
   "metadata": {},
   "outputs": [
    {
     "name": "stderr",
     "output_type": "stream",
     "text": [
      "/opt/anaconda3/lib/python3.11/site-packages/statsmodels/tsa/base/tsa_model.py:473: ValueWarning: An unsupported index was provided and will be ignored when e.g. forecasting.\n",
      "  self._init_dates(dates, freq)\n",
      "/opt/anaconda3/lib/python3.11/site-packages/statsmodels/tsa/base/tsa_model.py:473: ValueWarning: An unsupported index was provided and will be ignored when e.g. forecasting.\n",
      "  self._init_dates(dates, freq)\n",
      "/opt/anaconda3/lib/python3.11/site-packages/statsmodels/tsa/base/tsa_model.py:473: ValueWarning: An unsupported index was provided and will be ignored when e.g. forecasting.\n",
      "  self._init_dates(dates, freq)\n",
      "/opt/anaconda3/lib/python3.11/site-packages/statsmodels/tsa/statespace/sarimax.py:978: UserWarning: Non-invertible starting MA parameters found. Using zeros as starting parameters.\n",
      "  warn('Non-invertible starting MA parameters found.'\n"
     ]
    }
   ],
   "source": [
    "model_A1=ARIMA(df_diff['persons_diff2'],order=(1,2,2))\n",
    "model_fit_A1=model_A1.fit()\n",
    "residuals = model_fit_A1.resid"
   ]
  },
  {
   "cell_type": "markdown",
   "id": "89e2c627-7c79-467a-9065-15b773231429",
   "metadata": {},
   "source": [
    "### <br>Step3: Residual Diagnostics"
   ]
  },
  {
   "cell_type": "code",
   "execution_count": 13,
   "id": "ec1cc25c-a884-4df4-911f-33ee82f17979",
   "metadata": {},
   "outputs": [
    {
     "data": {
      "image/png": "[encoded data removed]",
      "text/plain": [
       "<Figure size 1200x600 with 1 Axes>"
      ]
     },
     "metadata": {},
     "output_type": "display_data"
    }
   ],
   "source": [
    "# Run Sequence Plot\n",
    "plt.figure(figsize=(12, 6))\n",
    "plt.plot(residuals, marker='o', linestyle='-', color='blue', label='Residuals')\n",
    "plt.axhline(y=0, color='red', linestyle='--', label='Zero Line')\n",
    "plt.title('Run Sequence Plot of Residuals', fontsize=14, fontweight='bold')\n",
    "plt.xlabel('Observation Index', fontsize=12, fontweight='bold')\n",
    "plt.ylabel('Residual Value', fontsize=12, fontweight='bold')\n",
    "plt.grid(color='gray', linestyle='--', linewidth=0.5, alpha=0.7)\n",
    "plt.legend(loc='upper right', fontsize=10)\n",
    "plt.show()"
   ]
  },
  {
   "cell_type": "markdown",
   "id": "bfa58110-9ed8-4091-80b2-6f1363d135e6",
   "metadata": {},
   "source": [
    "##### Residual Analysis<br> Low Error Magnitude: The run sequence plot shows that most of the residuals are in the range (-1,2). Random Residual: Residuals appear randomly scattered around zero, the model is likely doing a good job of fitting the data.<br><br>"
   ]
  },
  {
   "cell_type": "code",
   "execution_count": 14,
   "id": "b461f09c-111e-4f0b-9524-59e51fb7e501",
   "metadata": {},
   "outputs": [
    {
     "name": "stderr",
     "output_type": "stream",
     "text": [
      "/opt/anaconda3/lib/python3.11/site-packages/seaborn/_oldcore.py:1119: FutureWarning: use_inf_as_na option is deprecated and will be removed in a future version. Convert inf values to NaN before operating instead.\n",
      "  with pd.option_context('mode.use_inf_as_na', True):\n"
     ]
    },
    {
     "data": {
      "image/png": "[encoded data removed]",
      "text/plain": [
       "<Figure size 1200x700 with 1 Axes>"
      ]
     },
     "metadata": {},
     "output_type": "display_data"
    }
   ],
   "source": [
    "plt.subplot(1, 2, 2)\n",
    "sns.histplot(residuals, kde=True, color='green', bins=10)\n",
    "plt.title('Histogram of Residuals')\n",
    "plt.xlabel('Residuals')\n",
    "plt.ylabel('Frequency')\n",
    "\n",
    "plt.tight_layout()\n",
    "plt.show()"
   ]
  },
  {
   "cell_type": "markdown",
   "id": "8ed8a804-d75d-4b2d-8750-ae4117cd5207",
   "metadata": {},
   "source": [
    "##### The Histogram plot assess the residuals are normally distributed. It suggests that the model is likely capturing the overall structure of the data well."
   ]
  },
  {
   "cell_type": "markdown",
   "id": "2a24b82b-1d92-4f8e-a17c-5e80d5c7a9ee",
   "metadata": {},
   "source": [
    "### <br>Step 4: Forecasting Results"
   ]
  },
  {
   "cell_type": "code",
   "execution_count": 15,
   "id": "8762f685-db60-4533-929f-4d8798b6f7d2",
   "metadata": {},
   "outputs": [
    {
     "name": "stderr",
     "output_type": "stream",
     "text": [
      "/opt/anaconda3/lib/python3.11/site-packages/statsmodels/tsa/base/tsa_model.py:836: ValueWarning: No supported index is available. Prediction results will be given with an integer index beginning at `start`.\n",
      "  return get_prediction_index(\n",
      "/opt/anaconda3/lib/python3.11/site-packages/statsmodels/tsa/base/tsa_model.py:836: FutureWarning: No supported index is available. In the next version, calling this method in a model without a supported index will result in an exception.\n",
      "  return get_prediction_index(\n"
     ]
    },
    {
     "data": {
      "text/html": [
       "<div>\n",
       "<style scoped>\n",
       "    .dataframe tbody tr th:only-of-type {\n",
       "        vertical-align: middle;\n",
       "    }\n",
       "\n",
       "    .dataframe tbody tr th {\n",
       "        vertical-align: top;\n",
       "    }\n",
       "\n",
       "    .dataframe thead th {\n",
       "        text-align: right;\n",
       "    }\n",
       "</style>\n",
       "<table border=\"1\" class=\"dataframe\">\n",
       "  <thead>\n",
       "    <tr style=\"text-align: right;\">\n",
       "      <th></th>\n",
       "      <th>year</th>\n",
       "      <th>forecasted_persons</th>\n",
       "    </tr>\n",
       "  </thead>\n",
       "  <tbody>\n",
       "    <tr>\n",
       "      <th>0</th>\n",
       "      <td>2023.5</td>\n",
       "      <td>79.806611</td>\n",
       "    </tr>\n",
       "    <tr>\n",
       "      <th>1</th>\n",
       "      <td>2026.0</td>\n",
       "      <td>80.909238</td>\n",
       "    </tr>\n",
       "    <tr>\n",
       "      <th>2</th>\n",
       "      <td>2028.5</td>\n",
       "      <td>81.902782</td>\n",
       "    </tr>\n",
       "    <tr>\n",
       "      <th>3</th>\n",
       "      <td>2031.0</td>\n",
       "      <td>82.782509</td>\n",
       "    </tr>\n",
       "    <tr>\n",
       "      <th>4</th>\n",
       "      <td>2033.5</td>\n",
       "      <td>83.543708</td>\n",
       "    </tr>\n",
       "  </tbody>\n",
       "</table>\n",
       "</div>"
      ],
      "text/plain": [
       "     year  forecasted_persons\n",
       "0  2023.5           79.806611\n",
       "1  2026.0           80.909238\n",
       "2  2028.5           81.902782\n",
       "3  2031.0           82.782509\n",
       "4  2033.5           83.543708"
      ]
     },
     "metadata": {},
     "output_type": "display_data"
    }
   ],
   "source": [
    "# Forecasting and error metrics (example for the next few years)\n",
    "forecast_diff2 = model_fit_A1.forecast(steps=5)\n",
    "\n",
    "# Inverse transform the differenced forecasts to get actual values\n",
    "# Step 1: Reconstruct first differences from second differences\n",
    "last_diff1 = df_diff['persons_diff1'].iloc[-1]\n",
    "forecast_diff1 = [last_diff1 + forecast_diff2.iloc[0]]\n",
    "for i in range(1, 5):\n",
    "    forecast_diff1.append(forecast_diff1[-1] + forecast_diff2.iloc[i])\n",
    "\n",
    "# Step 2: Reconstruct actual values from first differences\n",
    "last_actual = df_diff['persons'].iloc[-1]\n",
    "forecast_persons = [last_actual + forecast_diff1[0]]\n",
    "for i in range(1, 5):\n",
    "    forecast_persons.append(forecast_persons[-1] + forecast_diff1[i])\n",
    "\n",
    "# Create future years (2.5 year gap)\n",
    "last_year = df_diff['year'].iloc[-1]\n",
    "future_years = [last_year + 2.5 * (i + 1) for i in range(5)]\n",
    "\n",
    "forecast_df = pd.DataFrame({\n",
    "    'year': future_years,\n",
    "    'forecasted_persons': forecast_persons\n",
    "})\n",
    "display(forecast_df)"
   ]
  },
  {
   "cell_type": "markdown",
   "id": "63f7af88-b916-458e-b92a-ee37d44e05cc",
   "metadata": {},
   "source": [
    "### <br>Accuracy Metric"
   ]
  },
  {
   "cell_type": "code",
   "execution_count": 16,
   "id": "498fa275-80e3-42c7-8ab2-31100a14bf79",
   "metadata": {},
   "outputs": [
    {
     "name": "stderr",
     "output_type": "stream",
     "text": [
      "/opt/anaconda3/lib/python3.11/site-packages/statsmodels/tsa/base/tsa_model.py:473: ValueWarning: An unsupported index was provided and will be ignored when e.g. forecasting.\n",
      "  self._init_dates(dates, freq)\n",
      "/opt/anaconda3/lib/python3.11/site-packages/statsmodels/tsa/base/tsa_model.py:473: ValueWarning: An unsupported index was provided and will be ignored when e.g. forecasting.\n",
      "  self._init_dates(dates, freq)\n",
      "/opt/anaconda3/lib/python3.11/site-packages/statsmodels/tsa/base/tsa_model.py:473: ValueWarning: An unsupported index was provided and will be ignored when e.g. forecasting.\n",
      "  self._init_dates(dates, freq)\n",
      "/opt/anaconda3/lib/python3.11/site-packages/statsmodels/tsa/statespace/sarimax.py:978: UserWarning: Non-invertible starting MA parameters found. Using zeros as starting parameters.\n",
      "  warn('Non-invertible starting MA parameters found.'\n"
     ]
    },
    {
     "name": "stdout",
     "output_type": "stream",
     "text": [
      "Forecasted Years and Literacy Rates:\n",
      "Year: 2011.0 | Forecasted Literacy Rate: 73.93 | Actual: 74.04\n",
      "Year: 2013.5 | Forecasted Literacy Rate: 75.93 | Actual: 75.02\n",
      "Year: 2016.0 | Forecasted Literacy Rate: 77.67 | Actual: 76.00\n",
      "Year: 2018.5 | Forecasted Literacy Rate: 79.08 | Actual: 77.30\n",
      "Year: 2021.0 | Forecasted Literacy Rate: 80.08 | Actual: 78.60\n",
      "\n",
      "Forecast Accuracy Metrics:\n",
      "Mean Error (ME): -1.1436\n",
      "Root Mean Squared Error (RMSE): 1.3383\n",
      "Mean Absolute Error (MAE): 1.1883\n",
      "Mean Percentage Error (MPE): -1.49%\n",
      "Mean Absolute Percentage Error (MAPE): 1.55%\n"
     ]
    },
    {
     "name": "stderr",
     "output_type": "stream",
     "text": [
      "/opt/anaconda3/lib/python3.11/site-packages/statsmodels/tsa/base/tsa_model.py:836: ValueWarning: No supported index is available. Prediction results will be given with an integer index beginning at `start`.\n",
      "  return get_prediction_index(\n",
      "/opt/anaconda3/lib/python3.11/site-packages/statsmodels/tsa/base/tsa_model.py:836: FutureWarning: No supported index is available. In the next version, calling this method in a model without a supported index will result in an exception.\n",
      "  return get_prediction_index(\n"
     ]
    }
   ],
   "source": [
    "# Step 1: Backtest - Fit ARIMA on all data except last 5 points\n",
    "train = df_diff['persons_diff2'][:-5]\n",
    "test_actual = df_diff['persons'].iloc[-5:].values  # last 5 actual literacy values\n",
    "years_forecast = df_diff['year'].iloc[-5:].values\n",
    "\n",
    "# Fit the model \n",
    "model = ARIMA(train, order=(1, 2, 2))\n",
    "fitted_model = model.fit()\n",
    "forecast_diff2 = fitted_model.forecast(steps=5)\n",
    "\n",
    "# Step 3: Inverse 2nd differencing to get actual forecasted values\n",
    "# Step 3.1: Reconstruct 1st difference\n",
    "last_diff1 = df_diff['persons_diff1'].iloc[-6]  # one step before test window\n",
    "forecast_diff1 = [last_diff1 + forecast_diff2.iloc[0]]\n",
    "for i in range(1, 5):\n",
    "    forecast_diff1.append(forecast_diff1[-1] + forecast_diff2.iloc[i])\n",
    "\n",
    "# Step 3.2: Reconstruct actual literacy rates\n",
    "last_actual = df_diff['persons'].iloc[-6]\n",
    "forecast_persons = [last_actual + forecast_diff1[0]]\n",
    "for i in range(1, 5):\n",
    "    forecast_persons.append(forecast_persons[-1] + forecast_diff1[i])\n",
    "\n",
    "forecast_persons = np.array(forecast_persons)\n",
    "\n",
    "# Step 4: Accuracy metrics\n",
    "errors = test_actual - forecast_persons\n",
    "ME = np.mean(errors)\n",
    "RMSE = np.sqrt(mean_squared_error(test_actual, forecast_persons))\n",
    "MAE = mean_absolute_error(test_actual, forecast_persons)\n",
    "MPE = np.mean(errors / test_actual) * 100\n",
    "MAPE = np.mean(np.abs(errors / test_actual)) * 100\n",
    "\n",
    "# Step 5: Print forecast years and values\n",
    "print(\"Forecasted Years and Literacy Rates:\")\n",
    "for i in range(5):\n",
    "    print(f\"Year: {years_forecast[i]} | Forecasted Literacy Rate: {forecast_persons[i]:.2f} | Actual: {test_actual[i]:.2f}\")\n",
    "\n",
    "# Step 6: Print metrics\n",
    "print(\"\\nForecast Accuracy Metrics:\")\n",
    "print(f\"Mean Error (ME): {ME:.4f}\")\n",
    "print(f\"Root Mean Squared Error (RMSE): {RMSE:.4f}\")\n",
    "print(f\"Mean Absolute Error (MAE): {MAE:.4f}\")\n",
    "print(f\"Mean Percentage Error (MPE): {MPE:.2f}%\")\n",
    "print(f\"Mean Absolute Percentage Error (MAPE): {MAPE:.2f}%\")"
   ]
  },
  {
   "cell_type": "markdown",
   "id": "8f4b398e-805c-43d4-b960-f27e8b69facd",
   "metadata": {},
   "source": [
    "| Metric                                    | Value       | Interpretation                                                                                                    |\n",
    "| ----------------------------------------- | ----------- | ----------------------------------------------------------------------------------------------------------------- |\n",
    "| **Mean Error (ME)**                       | **-1.1436** | Slight **underestimation** on average (bias). Negative ME means forecasts are generally a bit lower than actuals. |\n",
    "| **Root Mean Squared Error (RMSE)**        | **1.3383**  | Measures the standard deviation of prediction errors. The lower, the better. This is quite low in your case.      |\n",
    "| **Mean Absolute Error (MAE)**             | **1.1883**  | On average, forecasts are about **1.19 percentage points** off from the actual literacy rate — very precise.      |\n",
    "| **Mean Percentage Error (MPE)**           | **-1.49%**  | Forecasts are **1.49% lower** than actual values, again showing a slight bias.                                    |\n",
    "| **Mean Absolute Percentage Error (MAPE)** | **1.55%**   | Extremely low error percentage — this means your model is predicting **with over 98% accuracy**.                  |"
   ]
  },
  {
   "cell_type": "code",
   "execution_count": 17,
   "id": "32aa7efe-6673-4997-adc1-cd3d932a9767",
   "metadata": {},
   "outputs": [
    {
     "name": "stderr",
     "output_type": "stream",
     "text": [
      "/opt/anaconda3/lib/python3.11/site-packages/statsmodels/tsa/base/tsa_model.py:473: ValueWarning: An unsupported index was provided and will be ignored when e.g. forecasting.\n",
      "  self._init_dates(dates, freq)\n",
      "/opt/anaconda3/lib/python3.11/site-packages/statsmodels/tsa/base/tsa_model.py:473: ValueWarning: An unsupported index was provided and will be ignored when e.g. forecasting.\n",
      "  self._init_dates(dates, freq)\n",
      "/opt/anaconda3/lib/python3.11/site-packages/statsmodels/tsa/base/tsa_model.py:473: ValueWarning: An unsupported index was provided and will be ignored when e.g. forecasting.\n",
      "  self._init_dates(dates, freq)\n",
      "/opt/anaconda3/lib/python3.11/site-packages/statsmodels/tsa/statespace/sarimax.py:978: UserWarning: Non-invertible starting MA parameters found. Using zeros as starting parameters.\n",
      "  warn('Non-invertible starting MA parameters found.'\n",
      "/opt/anaconda3/lib/python3.11/site-packages/statsmodels/tsa/base/tsa_model.py:836: ValueWarning: No supported index is available. Prediction results will be given with an integer index beginning at `start`.\n",
      "  return get_prediction_index(\n",
      "/opt/anaconda3/lib/python3.11/site-packages/statsmodels/tsa/base/tsa_model.py:836: FutureWarning: No supported index is available. In the next version, calling this method in a model without a supported index will result in an exception.\n",
      "  return get_prediction_index(\n"
     ]
    }
   ],
   "source": [
    "model_A1=ARIMA(df_diff['persons_diff2'],order=(1,2,2))\n",
    "model_fit_A1=model_A1.fit()\n",
    "forecast_result = model_fit_A1.get_forecast(steps=5)"
   ]
  },
  {
   "cell_type": "code",
   "execution_count": 18,
   "id": "91198f54-eadc-486b-a0f2-3f8b810cb639",
   "metadata": {},
   "outputs": [
    {
     "data": {
      "text/html": [
       "<div>\n",
       "<style scoped>\n",
       "    .dataframe tbody tr th:only-of-type {\n",
       "        vertical-align: middle;\n",
       "    }\n",
       "\n",
       "    .dataframe tbody tr th {\n",
       "        vertical-align: top;\n",
       "    }\n",
       "\n",
       "    .dataframe thead th {\n",
       "        text-align: right;\n",
       "    }\n",
       "</style>\n",
       "<table border=\"1\" class=\"dataframe\">\n",
       "  <thead>\n",
       "    <tr style=\"text-align: right;\">\n",
       "      <th></th>\n",
       "      <th>year</th>\n",
       "      <th>persons</th>\n",
       "      <th>persons_diff1</th>\n",
       "    </tr>\n",
       "  </thead>\n",
       "  <tbody>\n",
       "    <tr>\n",
       "      <th>0</th>\n",
       "      <td>1951.0</td>\n",
       "      <td>18.3300</td>\n",
       "      <td>NaN</td>\n",
       "    </tr>\n",
       "    <tr>\n",
       "      <th>1</th>\n",
       "      <td>1953.5</td>\n",
       "      <td>20.8225</td>\n",
       "      <td>2.4925</td>\n",
       "    </tr>\n",
       "    <tr>\n",
       "      <th>2</th>\n",
       "      <td>1956.0</td>\n",
       "      <td>23.3150</td>\n",
       "      <td>2.4925</td>\n",
       "    </tr>\n",
       "    <tr>\n",
       "      <th>3</th>\n",
       "      <td>1958.5</td>\n",
       "      <td>25.8075</td>\n",
       "      <td>2.4925</td>\n",
       "    </tr>\n",
       "    <tr>\n",
       "      <th>4</th>\n",
       "      <td>1961.0</td>\n",
       "      <td>28.3000</td>\n",
       "      <td>2.4925</td>\n",
       "    </tr>\n",
       "    <tr>\n",
       "      <th>5</th>\n",
       "      <td>1963.5</td>\n",
       "      <td>29.8375</td>\n",
       "      <td>1.5375</td>\n",
       "    </tr>\n",
       "    <tr>\n",
       "      <th>6</th>\n",
       "      <td>1966.0</td>\n",
       "      <td>31.3750</td>\n",
       "      <td>1.5375</td>\n",
       "    </tr>\n",
       "    <tr>\n",
       "      <th>7</th>\n",
       "      <td>1968.5</td>\n",
       "      <td>32.9125</td>\n",
       "      <td>1.5375</td>\n",
       "    </tr>\n",
       "    <tr>\n",
       "      <th>8</th>\n",
       "      <td>1971.0</td>\n",
       "      <td>34.4500</td>\n",
       "      <td>1.5375</td>\n",
       "    </tr>\n",
       "    <tr>\n",
       "      <th>9</th>\n",
       "      <td>1973.5</td>\n",
       "      <td>36.7300</td>\n",
       "      <td>2.2800</td>\n",
       "    </tr>\n",
       "    <tr>\n",
       "      <th>10</th>\n",
       "      <td>1976.0</td>\n",
       "      <td>39.0100</td>\n",
       "      <td>2.2800</td>\n",
       "    </tr>\n",
       "    <tr>\n",
       "      <th>11</th>\n",
       "      <td>1978.5</td>\n",
       "      <td>41.2900</td>\n",
       "      <td>2.2800</td>\n",
       "    </tr>\n",
       "    <tr>\n",
       "      <th>12</th>\n",
       "      <td>1981.0</td>\n",
       "      <td>43.5700</td>\n",
       "      <td>2.2800</td>\n",
       "    </tr>\n",
       "    <tr>\n",
       "      <th>13</th>\n",
       "      <td>1983.5</td>\n",
       "      <td>45.7300</td>\n",
       "      <td>2.1600</td>\n",
       "    </tr>\n",
       "    <tr>\n",
       "      <th>14</th>\n",
       "      <td>1986.0</td>\n",
       "      <td>47.8900</td>\n",
       "      <td>2.1600</td>\n",
       "    </tr>\n",
       "    <tr>\n",
       "      <th>15</th>\n",
       "      <td>1988.5</td>\n",
       "      <td>50.0500</td>\n",
       "      <td>2.1600</td>\n",
       "    </tr>\n",
       "    <tr>\n",
       "      <th>16</th>\n",
       "      <td>1991.0</td>\n",
       "      <td>52.2100</td>\n",
       "      <td>2.1600</td>\n",
       "    </tr>\n",
       "    <tr>\n",
       "      <th>17</th>\n",
       "      <td>1993.5</td>\n",
       "      <td>55.3650</td>\n",
       "      <td>3.1550</td>\n",
       "    </tr>\n",
       "    <tr>\n",
       "      <th>18</th>\n",
       "      <td>1996.0</td>\n",
       "      <td>58.5200</td>\n",
       "      <td>3.1550</td>\n",
       "    </tr>\n",
       "    <tr>\n",
       "      <th>19</th>\n",
       "      <td>1998.5</td>\n",
       "      <td>61.6750</td>\n",
       "      <td>3.1550</td>\n",
       "    </tr>\n",
       "    <tr>\n",
       "      <th>20</th>\n",
       "      <td>2001.0</td>\n",
       "      <td>64.8300</td>\n",
       "      <td>3.1550</td>\n",
       "    </tr>\n",
       "    <tr>\n",
       "      <th>21</th>\n",
       "      <td>2003.5</td>\n",
       "      <td>67.1325</td>\n",
       "      <td>2.3025</td>\n",
       "    </tr>\n",
       "    <tr>\n",
       "      <th>22</th>\n",
       "      <td>2006.0</td>\n",
       "      <td>69.4350</td>\n",
       "      <td>2.3025</td>\n",
       "    </tr>\n",
       "    <tr>\n",
       "      <th>23</th>\n",
       "      <td>2008.5</td>\n",
       "      <td>71.7375</td>\n",
       "      <td>2.3025</td>\n",
       "    </tr>\n",
       "    <tr>\n",
       "      <th>24</th>\n",
       "      <td>2011.0</td>\n",
       "      <td>74.0400</td>\n",
       "      <td>2.3025</td>\n",
       "    </tr>\n",
       "    <tr>\n",
       "      <th>25</th>\n",
       "      <td>2013.5</td>\n",
       "      <td>75.0200</td>\n",
       "      <td>0.9800</td>\n",
       "    </tr>\n",
       "    <tr>\n",
       "      <th>26</th>\n",
       "      <td>2016.0</td>\n",
       "      <td>76.0000</td>\n",
       "      <td>0.9800</td>\n",
       "    </tr>\n",
       "    <tr>\n",
       "      <th>27</th>\n",
       "      <td>2018.5</td>\n",
       "      <td>77.3000</td>\n",
       "      <td>1.3000</td>\n",
       "    </tr>\n",
       "    <tr>\n",
       "      <th>28</th>\n",
       "      <td>2021.0</td>\n",
       "      <td>78.6000</td>\n",
       "      <td>1.3000</td>\n",
       "    </tr>\n",
       "  </tbody>\n",
       "</table>\n",
       "</div>"
      ],
      "text/plain": [
       "      year  persons  persons_diff1\n",
       "0   1951.0  18.3300            NaN\n",
       "1   1953.5  20.8225         2.4925\n",
       "2   1956.0  23.3150         2.4925\n",
       "3   1958.5  25.8075         2.4925\n",
       "4   1961.0  28.3000         2.4925\n",
       "5   1963.5  29.8375         1.5375\n",
       "6   1966.0  31.3750         1.5375\n",
       "7   1968.5  32.9125         1.5375\n",
       "8   1971.0  34.4500         1.5375\n",
       "9   1973.5  36.7300         2.2800\n",
       "10  1976.0  39.0100         2.2800\n",
       "11  1978.5  41.2900         2.2800\n",
       "12  1981.0  43.5700         2.2800\n",
       "13  1983.5  45.7300         2.1600\n",
       "14  1986.0  47.8900         2.1600\n",
       "15  1988.5  50.0500         2.1600\n",
       "16  1991.0  52.2100         2.1600\n",
       "17  1993.5  55.3650         3.1550\n",
       "18  1996.0  58.5200         3.1550\n",
       "19  1998.5  61.6750         3.1550\n",
       "20  2001.0  64.8300         3.1550\n",
       "21  2003.5  67.1325         2.3025\n",
       "22  2006.0  69.4350         2.3025\n",
       "23  2008.5  71.7375         2.3025\n",
       "24  2011.0  74.0400         2.3025\n",
       "25  2013.5  75.0200         0.9800\n",
       "26  2016.0  76.0000         0.9800\n",
       "27  2018.5  77.3000         1.3000\n",
       "28  2021.0  78.6000         1.3000"
      ]
     },
     "execution_count": 18,
     "metadata": {},
     "output_type": "execute_result"
    }
   ],
   "source": [
    "final_post_independence_data"
   ]
  },
  {
   "cell_type": "code",
   "execution_count": 19,
   "id": "8787e2e3-87d1-4579-a34e-a72bb4d1162b",
   "metadata": {},
   "outputs": [
    {
     "name": "stderr",
     "output_type": "stream",
     "text": [
      "/opt/anaconda3/lib/python3.11/site-packages/statsmodels/tsa/base/tsa_model.py:836: ValueWarning: No supported index is available. Prediction results will be given with an integer index beginning at `start`.\n",
      "  return get_prediction_index(\n",
      "/opt/anaconda3/lib/python3.11/site-packages/statsmodels/tsa/base/tsa_model.py:836: FutureWarning: No supported index is available. In the next version, calling this method in a model without a supported index will result in an exception.\n",
      "  return get_prediction_index(\n"
     ]
    },
    {
     "data": {
      "image/png": "[encoded data removed]",
      "text/plain": [
       "<Figure size 1200x600 with 1 Axes>"
      ]
     },
     "metadata": {},
     "output_type": "display_data"
    }
   ],
   "source": [
    "# Forecast for the next 5 steps in the differenced scale\n",
    "forecast_result = model_fit_A1.get_forecast(steps=5)\n",
    "forecast_diff2_mean = forecast_result.predicted_mean\n",
    "forecast_diff2_ci_95 = forecast_result.conf_int(alpha=0.05)\n",
    "forecast_diff2_ci_80 = forecast_result.conf_int(alpha=0.2)\n",
    "\n",
    "# Create future years (2.5 year gap)\n",
    "last_year = df_diff['year'].iloc[-1]\n",
    "forecast_years = [last_year + 2.5 * (i + 1) for i in range(5)]\n",
    "\n",
    "# Reverse the differencing to bring the forecast back to the original scale\n",
    "last_persons_diff1 = df_diff[\"persons\"].diff().iloc[-1]  # Last value of first differencing\n",
    "last_persons = df_diff[\"persons\"].iloc[-1]\n",
    "\n",
    "forecast_diff1 = forecast_diff2_mean.cumsum() + last_persons_diff1\n",
    "\n",
    "# Reconstructing the original series forecast\n",
    "forecast_persons = forecast_diff1.cumsum() + last_persons\n",
    "\n",
    "forecast_ci_95_diff1 = forecast_diff2_ci_95.cumsum() + last_persons_diff1\n",
    "forecast_ci_80_diff1 = forecast_diff2_ci_80.cumsum() + last_persons_diff1\n",
    "\n",
    "forecast_ci_95_original = forecast_ci_95_diff1.cumsum() + last_persons\n",
    "forecast_ci_80_original = forecast_ci_80_diff1.cumsum() + last_persons\n",
    "\n",
    "plt.figure(figsize=(12, 6))\n",
    "# Plot original series\n",
    "plt.plot(final_post_independence_data[\"year\"], final_post_independence_data[\"persons\"], label=\"Observed\", marker='o', color=\"blue\")\n",
    "# Plot forecasted series\n",
    "plt.plot(forecast_years, forecast_persons, label=\"Forecast\", color=\"orange\", linestyle=\"--\", marker='o')\n",
    "# Confidence intervals\n",
    "plt.fill_between(\n",
    "    forecast_years,\n",
    "    forecast_ci_95_original.iloc[:, 0],\n",
    "    forecast_ci_95_original.iloc[:, 1],\n",
    "    color=\"lightblue\",\n",
    "    alpha=0.5,\n",
    "    label=\"95% Confidence Interval\"\n",
    ")\n",
    "plt.fill_between(\n",
    "    forecast_years,\n",
    "    forecast_ci_80_original.iloc[:, 0],\n",
    "    forecast_ci_80_original.iloc[:, 1],\n",
    "    color=\"lightgray\",\n",
    "    alpha=0.3,\n",
    "    label=\"80% Confidence Interval\"\n",
    ")\n",
    "plt.title(\"Forecast of Literacy Rate with ARIMA(1,2,2) Model (Fully Corrected)\")\n",
    "plt.xlabel(\"Year\")\n",
    "plt.ylabel(\"Literacy Rate (%)\")\n",
    "plt.legend(loc='center', bbox_to_anchor=(0.2, 0.8), frameon=False)\n",
    "plt.grid()\n",
    "\n",
    "plt.xticks(\n",
    "    list(final_post_independence_data[\"year\"]) + forecast_years,  # Combine observed and forecasted years\n",
    "    rotation=45  # Optional: rotate for readability\n",
    ")\n",
    "\n",
    "plt.show()"
   ]
  },
  {
   "cell_type": "code",
   "execution_count": 20,
   "id": "0edc3160-1f6c-4080-b011-936728c089e6",
   "metadata": {},
   "outputs": [
    {
     "data": {
      "text/html": [
       "<div>\n",
       "<style scoped>\n",
       "    .dataframe tbody tr th:only-of-type {\n",
       "        vertical-align: middle;\n",
       "    }\n",
       "\n",
       "    .dataframe tbody tr th {\n",
       "        vertical-align: top;\n",
       "    }\n",
       "\n",
       "    .dataframe thead th {\n",
       "        text-align: right;\n",
       "    }\n",
       "</style>\n",
       "<table border=\"1\" class=\"dataframe\">\n",
       "  <thead>\n",
       "    <tr style=\"text-align: right;\">\n",
       "      <th></th>\n",
       "      <th>Year</th>\n",
       "      <th>Forecasted_Literacy</th>\n",
       "      <th>Lower_95%_CI</th>\n",
       "      <th>Upper_95%_CI</th>\n",
       "      <th>Lower_80%_CI</th>\n",
       "      <th>Upper_80%_CI</th>\n",
       "    </tr>\n",
       "  </thead>\n",
       "  <tbody>\n",
       "    <tr>\n",
       "      <th>0</th>\n",
       "      <td>2023.5</td>\n",
       "      <td>79.806611</td>\n",
       "      <td>78.868124</td>\n",
       "      <td>80.745097</td>\n",
       "      <td>79.192968</td>\n",
       "      <td>80.420254</td>\n",
       "    </tr>\n",
       "    <tr>\n",
       "      <th>1</th>\n",
       "      <td>2026.0</td>\n",
       "      <td>80.909238</td>\n",
       "      <td>78.078668</td>\n",
       "      <td>83.739808</td>\n",
       "      <td>79.058428</td>\n",
       "      <td>82.760049</td>\n",
       "    </tr>\n",
       "    <tr>\n",
       "      <th>2</th>\n",
       "      <td>2028.5</td>\n",
       "      <td>81.902782</td>\n",
       "      <td>76.219789</td>\n",
       "      <td>87.585776</td>\n",
       "      <td>78.186873</td>\n",
       "      <td>85.618692</td>\n",
       "    </tr>\n",
       "    <tr>\n",
       "      <th>3</th>\n",
       "      <td>2031.0</td>\n",
       "      <td>82.782509</td>\n",
       "      <td>73.280126</td>\n",
       "      <td>92.284892</td>\n",
       "      <td>76.569235</td>\n",
       "      <td>88.995783</td>\n",
       "    </tr>\n",
       "    <tr>\n",
       "      <th>4</th>\n",
       "      <td>2033.5</td>\n",
       "      <td>83.543708</td>\n",
       "      <td>69.247988</td>\n",
       "      <td>97.839428</td>\n",
       "      <td>74.196239</td>\n",
       "      <td>92.891176</td>\n",
       "    </tr>\n",
       "  </tbody>\n",
       "</table>\n",
       "</div>"
      ],
      "text/plain": [
       "     Year  Forecasted_Literacy  Lower_95%_CI  Upper_95%_CI  Lower_80%_CI  \\\n",
       "0  2023.5            79.806611     78.868124     80.745097     79.192968   \n",
       "1  2026.0            80.909238     78.078668     83.739808     79.058428   \n",
       "2  2028.5            81.902782     76.219789     87.585776     78.186873   \n",
       "3  2031.0            82.782509     73.280126     92.284892     76.569235   \n",
       "4  2033.5            83.543708     69.247988     97.839428     74.196239   \n",
       "\n",
       "   Upper_80%_CI  \n",
       "0     80.420254  \n",
       "1     82.760049  \n",
       "2     85.618692  \n",
       "3     88.995783  \n",
       "4     92.891176  "
      ]
     },
     "execution_count": 20,
     "metadata": {},
     "output_type": "execute_result"
    }
   ],
   "source": [
    "forecast_table = pd.DataFrame({\n",
    "    \"Year\": forecast_years,\n",
    "    \"Forecasted_Literacy\": forecast_persons,\n",
    "    \"Lower_95%_CI\": forecast_ci_95_original.iloc[:, 0],\n",
    "    \"Upper_95%_CI\": forecast_ci_95_original.iloc[:, 1],\n",
    "    \"Lower_80%_CI\": forecast_ci_80_original.iloc[:, 0],\n",
    "    \"Upper_80%_CI\": forecast_ci_80_original.iloc[:, 1]\n",
    "})\n",
    "\n",
    "# Display the forecast table\n",
    "forecast_table.reset_index(drop=True, inplace=True)\n",
    "forecast_table"
   ]
  }
 ],
 "metadata": {
  "kernelspec": {
   "display_name": "Python 3 (ipykernel)",
   "language": "python",
   "name": "python3"
  },
  "language_info": {
   "codemirror_mode": {
    "name": "ipython",
    "version": 3
   },
   "file_extension": ".py",
   "mimetype": "text/x-python",
   "name": "python",
   "nbconvert_exporter": "python",
   "pygments_lexer": "ipython3",
   "version": "3.11.7"
  }
 },
 "nbformat": 4,
 "nbformat_minor": 5
}
